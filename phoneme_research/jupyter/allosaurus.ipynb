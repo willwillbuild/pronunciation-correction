{
  "nbformat": 4,
  "nbformat_minor": 0,
  "metadata": {
    "colab": {
      "provenance": []
    },
    "kernelspec": {
      "name": "python3",
      "display_name": "Python 3"
    },
    "language_info": {
      "name": "python"
    }
  },
  "cells": [
    {
      "cell_type": "code",
      "execution_count": 14,
      "metadata": {
        "colab": {
          "base_uri": "https://localhost:8080/"
        },
        "id": "wK5bXaJmNVM0",
        "outputId": "70cd1989-eee0-4f69-ea49-1b12bbccfba5"
      },
      "outputs": [
        {
          "output_type": "stream",
          "name": "stdout",
          "text": [
            "Requirement already satisfied: allosaurus in /usr/local/lib/python3.10/dist-packages (1.0.2)\n",
            "Requirement already satisfied: scipy in /usr/local/lib/python3.10/dist-packages (from allosaurus) (1.11.4)\n",
            "Requirement already satisfied: numpy in /usr/local/lib/python3.10/dist-packages (from allosaurus) (1.23.5)\n",
            "Requirement already satisfied: resampy in /usr/local/lib/python3.10/dist-packages (from allosaurus) (0.4.2)\n",
            "Requirement already satisfied: panphon in /usr/local/lib/python3.10/dist-packages (from allosaurus) (0.20.0)\n",
            "Requirement already satisfied: torch in /usr/local/lib/python3.10/dist-packages (from allosaurus) (2.1.0+cu121)\n",
            "Requirement already satisfied: editdistance in /usr/local/lib/python3.10/dist-packages (from allosaurus) (0.6.2)\n",
            "Requirement already satisfied: setuptools in /usr/local/lib/python3.10/dist-packages (from panphon->allosaurus) (67.7.2)\n",
            "Requirement already satisfied: unicodecsv in /usr/local/lib/python3.10/dist-packages (from panphon->allosaurus) (0.14.1)\n",
            "Requirement already satisfied: PyYAML in /usr/local/lib/python3.10/dist-packages (from panphon->allosaurus) (6.0.1)\n",
            "Requirement already satisfied: regex in /usr/local/lib/python3.10/dist-packages (from panphon->allosaurus) (2023.6.3)\n",
            "Requirement already satisfied: munkres in /usr/local/lib/python3.10/dist-packages (from panphon->allosaurus) (1.1.4)\n",
            "Requirement already satisfied: numba>=0.53 in /usr/local/lib/python3.10/dist-packages (from resampy->allosaurus) (0.58.1)\n",
            "Requirement already satisfied: filelock in /usr/local/lib/python3.10/dist-packages (from torch->allosaurus) (3.13.1)\n",
            "Requirement already satisfied: typing-extensions in /usr/local/lib/python3.10/dist-packages (from torch->allosaurus) (4.5.0)\n",
            "Requirement already satisfied: sympy in /usr/local/lib/python3.10/dist-packages (from torch->allosaurus) (1.12)\n",
            "Requirement already satisfied: networkx in /usr/local/lib/python3.10/dist-packages (from torch->allosaurus) (3.2.1)\n",
            "Requirement already satisfied: jinja2 in /usr/local/lib/python3.10/dist-packages (from torch->allosaurus) (3.1.2)\n",
            "Requirement already satisfied: fsspec in /usr/local/lib/python3.10/dist-packages (from torch->allosaurus) (2023.6.0)\n",
            "Requirement already satisfied: triton==2.1.0 in /usr/local/lib/python3.10/dist-packages (from torch->allosaurus) (2.1.0)\n",
            "Requirement already satisfied: llvmlite<0.42,>=0.41.0dev0 in /usr/local/lib/python3.10/dist-packages (from numba>=0.53->resampy->allosaurus) (0.41.1)\n",
            "Requirement already satisfied: MarkupSafe>=2.0 in /usr/local/lib/python3.10/dist-packages (from jinja2->torch->allosaurus) (2.1.3)\n",
            "Requirement already satisfied: mpmath>=0.19 in /usr/local/lib/python3.10/dist-packages (from sympy->torch->allosaurus) (1.3.0)\n",
            "Requirement already satisfied: epitran in /usr/local/lib/python3.10/dist-packages (1.24)\n",
            "Requirement already satisfied: setuptools in /usr/local/lib/python3.10/dist-packages (from epitran) (67.7.2)\n",
            "Requirement already satisfied: regex in /usr/local/lib/python3.10/dist-packages (from epitran) (2023.6.3)\n",
            "Requirement already satisfied: panphon>=0.20 in /usr/local/lib/python3.10/dist-packages (from epitran) (0.20.0)\n",
            "Requirement already satisfied: marisa-trie in /usr/local/lib/python3.10/dist-packages (from epitran) (1.1.0)\n",
            "Requirement already satisfied: requests in /usr/local/lib/python3.10/dist-packages (from epitran) (2.31.0)\n",
            "Requirement already satisfied: unicodecsv in /usr/local/lib/python3.10/dist-packages (from panphon>=0.20->epitran) (0.14.1)\n",
            "Requirement already satisfied: PyYAML in /usr/local/lib/python3.10/dist-packages (from panphon>=0.20->epitran) (6.0.1)\n",
            "Requirement already satisfied: numpy>=1.20.2 in /usr/local/lib/python3.10/dist-packages (from panphon>=0.20->epitran) (1.23.5)\n",
            "Requirement already satisfied: editdistance in /usr/local/lib/python3.10/dist-packages (from panphon>=0.20->epitran) (0.6.2)\n",
            "Requirement already satisfied: munkres in /usr/local/lib/python3.10/dist-packages (from panphon>=0.20->epitran) (1.1.4)\n",
            "Requirement already satisfied: charset-normalizer<4,>=2 in /usr/local/lib/python3.10/dist-packages (from requests->epitran) (3.3.2)\n",
            "Requirement already satisfied: idna<4,>=2.5 in /usr/local/lib/python3.10/dist-packages (from requests->epitran) (3.6)\n",
            "Requirement already satisfied: urllib3<3,>=1.21.1 in /usr/local/lib/python3.10/dist-packages (from requests->epitran) (2.0.7)\n",
            "Requirement already satisfied: certifi>=2017.4.17 in /usr/local/lib/python3.10/dist-packages (from requests->epitran) (2023.11.17)\n",
            "Collecting levenshtein\n",
            "  Downloading Levenshtein-0.23.0-cp310-cp310-manylinux_2_17_x86_64.manylinux2014_x86_64.whl (169 kB)\n",
            "\u001b[2K     \u001b[90m━━━━━━━━━━━━━━━━━━━━━━━━━━━━━━━━━━━━━━━━\u001b[0m \u001b[32m169.4/169.4 kB\u001b[0m \u001b[31m3.7 MB/s\u001b[0m eta \u001b[36m0:00:00\u001b[0m\n",
            "\u001b[?25hCollecting rapidfuzz<4.0.0,>=3.1.0 (from levenshtein)\n",
            "  Downloading rapidfuzz-3.6.0-cp310-cp310-manylinux_2_17_x86_64.manylinux2014_x86_64.whl (3.4 MB)\n",
            "\u001b[2K     \u001b[90m━━━━━━━━━━━━━━━━━━━━━━━━━━━━━━━━━━━━━━━━\u001b[0m \u001b[32m3.4/3.4 MB\u001b[0m \u001b[31m14.4 MB/s\u001b[0m eta \u001b[36m0:00:00\u001b[0m\n",
            "\u001b[?25hInstalling collected packages: rapidfuzz, levenshtein\n",
            "Successfully installed levenshtein-0.23.0 rapidfuzz-3.6.0\n"
          ]
        }
      ],
      "source": [
        "!pip install allosaurus\n",
        "!pip install epitran\n",
        "!pip install levenshtein"
      ]
    },
    {
      "cell_type": "code",
      "source": [
        "!python -m allosaurus.run -i sample.wav"
      ],
      "metadata": {
        "colab": {
          "base_uri": "https://localhost:8080/"
        },
        "id": "9FwlI8LyNYic",
        "outputId": "3ba9ccfb-8c63-4540-f244-6300b5da5c2d"
      },
      "execution_count": null,
      "outputs": [
        {
          "output_type": "stream",
          "name": "stdout",
          "text": [
            "downloading model  latest\n",
            "from:  https://github.com/xinjli/allosaurus/releases/download/v1.0/latest.tar.gz\n",
            "to:    /usr/local/lib/python3.10/dist-packages/allosaurus/pretrained\n",
            "please wait...\n",
            "Traceback (most recent call last):\n",
            "  File \"/usr/lib/python3.10/runpy.py\", line 196, in _run_module_as_main\n",
            "    return _run_code(code, main_globals, None,\n",
            "  File \"/usr/lib/python3.10/runpy.py\", line 86, in _run_code\n",
            "    exec(code, run_globals)\n",
            "  File \"/usr/local/lib/python3.10/dist-packages/allosaurus/run.py\", line 71, in <module>\n",
            "    phones = recognizer.recognize(args.input, args.lang, args.topk, args.emit, args.timestamp)\n",
            "  File \"/usr/local/lib/python3.10/dist-packages/allosaurus/app.py\", line 68, in recognize\n",
            "    audio = read_audio(filename)\n",
            "  File \"/usr/local/lib/python3.10/dist-packages/allosaurus/audio.py\", line 17, in read_audio\n",
            "    wf = wave.open(filename)\n",
            "  File \"/usr/lib/python3.10/wave.py\", line 509, in open\n",
            "    return Wave_read(f)\n",
            "  File \"/usr/lib/python3.10/wave.py\", line 159, in __init__\n",
            "    f = builtins.open(f, 'rb')\n",
            "FileNotFoundError: [Errno 2] No such file or directory: 'sample.wav'\n"
          ]
        }
      ]
    },
    {
      "cell_type": "code",
      "source": [
        "from allosaurus.app import read_recognizer"
      ],
      "metadata": {
        "id": "YvSuyqb5OB_b"
      },
      "execution_count": null,
      "outputs": []
    },
    {
      "cell_type": "code",
      "source": [
        "# load your model by the <model name>, will use 'latest' if left empty\n",
        "model = read_recognizer()"
      ],
      "metadata": {
        "id": "21n5F7W5OtZ5",
        "colab": {
          "base_uri": "https://localhost:8080/",
          "height": 199
        },
        "outputId": "4b3aae3f-9811-4d43-9a5f-9b18f872800a"
      },
      "execution_count": 1,
      "outputs": [
        {
          "output_type": "error",
          "ename": "NameError",
          "evalue": "ignored",
          "traceback": [
            "\u001b[0;31m---------------------------------------------------------------------------\u001b[0m",
            "\u001b[0;31mNameError\u001b[0m                                 Traceback (most recent call last)",
            "\u001b[0;32m<ipython-input-1-86bafde3d0f5>\u001b[0m in \u001b[0;36m<cell line: 2>\u001b[0;34m()\u001b[0m\n\u001b[1;32m      1\u001b[0m \u001b[0;31m# load your model by the <model name>, will use 'latest' if left empty\u001b[0m\u001b[0;34m\u001b[0m\u001b[0;34m\u001b[0m\u001b[0m\n\u001b[0;32m----> 2\u001b[0;31m \u001b[0mmodel\u001b[0m \u001b[0;34m=\u001b[0m \u001b[0mread_recognizer\u001b[0m\u001b[0;34m(\u001b[0m\u001b[0;34m)\u001b[0m\u001b[0;34m\u001b[0m\u001b[0;34m\u001b[0m\u001b[0m\n\u001b[0m",
            "\u001b[0;31mNameError\u001b[0m: name 'read_recognizer' is not defined"
          ]
        }
      ]
    },
    {
      "cell_type": "code",
      "source": [
        "# run inference on <audio_file> with <lang>, lang will be 'ipa' if left empty\n",
        "model.recognize('sample.wav', 'cmn')"
      ],
      "metadata": {
        "colab": {
          "base_uri": "https://localhost:8080/",
          "height": 199
        },
        "id": "HN5se6XoOuh6",
        "outputId": "a3f3ec5d-7548-44ee-d04e-20e72b32e3b4"
      },
      "execution_count": 2,
      "outputs": [
        {
          "output_type": "error",
          "ename": "NameError",
          "evalue": "ignored",
          "traceback": [
            "\u001b[0;31m---------------------------------------------------------------------------\u001b[0m",
            "\u001b[0;31mNameError\u001b[0m                                 Traceback (most recent call last)",
            "\u001b[0;32m<ipython-input-2-c37315176938>\u001b[0m in \u001b[0;36m<cell line: 2>\u001b[0;34m()\u001b[0m\n\u001b[1;32m      1\u001b[0m \u001b[0;31m# run inference on <audio_file> with <lang>, lang will be 'ipa' if left empty\u001b[0m\u001b[0;34m\u001b[0m\u001b[0;34m\u001b[0m\u001b[0m\n\u001b[0;32m----> 2\u001b[0;31m \u001b[0mmodel\u001b[0m\u001b[0;34m.\u001b[0m\u001b[0mrecognize\u001b[0m\u001b[0;34m(\u001b[0m\u001b[0;34m'sample.wav'\u001b[0m\u001b[0;34m,\u001b[0m \u001b[0;34m'cmn'\u001b[0m\u001b[0;34m)\u001b[0m\u001b[0;34m\u001b[0m\u001b[0;34m\u001b[0m\u001b[0m\n\u001b[0m",
            "\u001b[0;31mNameError\u001b[0m: name 'model' is not defined"
          ]
        }
      ]
    },
    {
      "cell_type": "code",
      "source": [
        "model.recognize('sample.wav', 'eng')"
      ],
      "metadata": {
        "colab": {
          "base_uri": "https://localhost:8080/",
          "height": 36
        },
        "id": "dfvnvc9_aR77",
        "outputId": "6c1e7f35-73bb-444a-9e98-cb96f87af71a"
      },
      "execution_count": null,
      "outputs": [
        {
          "output_type": "execute_result",
          "data": {
            "text/plain": [
              "'æ l u s ɔ ɹ s'"
            ],
            "application/vnd.google.colaboratory.intrinsic+json": {
              "type": "string"
            }
          },
          "metadata": {},
          "execution_count": 18
        }
      ]
    },
    {
      "cell_type": "code",
      "source": [
        "model.recognize('sample.wav', 'yue')"
      ],
      "metadata": {
        "colab": {
          "base_uri": "https://localhost:8080/",
          "height": 36
        },
        "id": "Lz54hcsJaXNL",
        "outputId": "a15c8cf2-8d2e-4e42-d5ea-b49325a170c2"
      },
      "execution_count": null,
      "outputs": [
        {
          "output_type": "execute_result",
          "data": {
            "text/plain": [
              "'æ l u s ɔ s'"
            ],
            "application/vnd.google.colaboratory.intrinsic+json": {
              "type": "string"
            }
          },
          "metadata": {},
          "execution_count": 19
        }
      ]
    },
    {
      "cell_type": "code",
      "source": [
        "model.recognize('wo1.wav', 'cmn')"
      ],
      "metadata": {
        "colab": {
          "base_uri": "https://localhost:8080/",
          "height": 36
        },
        "id": "1AlQSN9tOu6t",
        "outputId": "8fbd33ed-f4d2-4264-9666-543c9d8f8be1"
      },
      "execution_count": null,
      "outputs": [
        {
          "output_type": "execute_result",
          "data": {
            "text/plain": [
              "'u a'"
            ],
            "application/vnd.google.colaboratory.intrinsic+json": {
              "type": "string"
            }
          },
          "metadata": {},
          "execution_count": 27
        }
      ]
    },
    {
      "cell_type": "code",
      "source": [
        "model.recognize('wo3.wav', 'cmn')"
      ],
      "metadata": {
        "colab": {
          "base_uri": "https://localhost:8080/",
          "height": 36
        },
        "id": "tifWe2woekhL",
        "outputId": "50a5689e-76d6-433d-eb31-9ac169c4da18"
      },
      "execution_count": null,
      "outputs": [
        {
          "output_type": "execute_result",
          "data": {
            "text/plain": [
              "'k͡p̚ uə ʔ'"
            ],
            "application/vnd.google.colaboratory.intrinsic+json": {
              "type": "string"
            }
          },
          "metadata": {},
          "execution_count": 28
        }
      ]
    },
    {
      "cell_type": "code",
      "source": [
        "model.recognize('wo4.wav', 'cmn')"
      ],
      "metadata": {
        "colab": {
          "base_uri": "https://localhost:8080/",
          "height": 36
        },
        "id": "maenSHFzemIM",
        "outputId": "84bb50d6-65cd-4183-8c32-e2b6c3adcfea"
      },
      "execution_count": null,
      "outputs": [
        {
          "output_type": "execute_result",
          "data": {
            "text/plain": [
              "'a'"
            ],
            "application/vnd.google.colaboratory.intrinsic+json": {
              "type": "string"
            }
          },
          "metadata": {},
          "execution_count": 31
        }
      ]
    },
    {
      "cell_type": "code",
      "source": [
        "model.recognize('a.wav', 'cmn')"
      ],
      "metadata": {
        "colab": {
          "base_uri": "https://localhost:8080/",
          "height": 36
        },
        "id": "24yGALUdenD8",
        "outputId": "52954d87-f498-4759-a680-54b66b805b80"
      },
      "execution_count": null,
      "outputs": [
        {
          "output_type": "execute_result",
          "data": {
            "text/plain": [
              "'a'"
            ],
            "application/vnd.google.colaboratory.intrinsic+json": {
              "type": "string"
            }
          },
          "metadata": {},
          "execution_count": 32
        }
      ]
    },
    {
      "cell_type": "code",
      "source": [
        "import epitran\n",
        "from epitran.backoff import Backoff"
      ],
      "metadata": {
        "id": "jSY3QLkLfvbO"
      },
      "execution_count": 11,
      "outputs": []
    },
    {
      "cell_type": "code",
      "source": [
        "epitran.download.cedict()"
      ],
      "metadata": {
        "id": "mxy7mbnHBF56"
      },
      "execution_count": 8,
      "outputs": []
    },
    {
      "cell_type": "code",
      "source": [
        "backoff = Backoff(['eng-Latn', 'cmn-Hans'])"
      ],
      "metadata": {
        "id": "zRzLRvrbBQeq"
      },
      "execution_count": 12,
      "outputs": []
    },
    {
      "cell_type": "code",
      "source": [
        "# backoff.transliterate('English')"
      ],
      "metadata": {
        "id": "cnFF8ODcBbGg"
      },
      "execution_count": null,
      "outputs": []
    },
    {
      "cell_type": "code",
      "source": [
        "backoff.transliterate('中文')"
      ],
      "metadata": {
        "colab": {
          "base_uri": "https://localhost:8080/",
          "height": 36
        },
        "id": "LgGt1sLOBd2N",
        "outputId": "19b44b7f-c0ed-4888-f07f-0fdbedfa4f54"
      },
      "execution_count": null,
      "outputs": [
        {
          "output_type": "execute_result",
          "data": {
            "text/plain": [
              "'ʈ͡ʂoŋwen'"
            ],
            "application/vnd.google.colaboratory.intrinsic+json": {
              "type": "string"
            }
          },
          "metadata": {},
          "execution_count": 17
        }
      ]
    },
    {
      "cell_type": "code",
      "source": [
        "backoff.transliterate('种问')"
      ],
      "metadata": {
        "id": "tCfpf9p0cYVk",
        "outputId": "f82159e4-fc69-48fc-9897-c22af562dee2",
        "colab": {
          "base_uri": "https://localhost:8080/",
          "height": 36
        }
      },
      "execution_count": null,
      "outputs": [
        {
          "output_type": "execute_result",
          "data": {
            "text/plain": [
              "'ʈ͡ʂoŋwen'"
            ],
            "application/vnd.google.colaboratory.intrinsic+json": {
              "type": "string"
            }
          },
          "metadata": {},
          "execution_count": 10
        }
      ]
    },
    {
      "cell_type": "code",
      "source": [
        "backoff.transliterate('我')"
      ],
      "metadata": {
        "colab": {
          "base_uri": "https://localhost:8080/",
          "height": 36
        },
        "id": "kLdduEBnBiIv",
        "outputId": "77cd6b7d-b043-4678-8c58-4343a8ca33aa"
      },
      "execution_count": null,
      "outputs": [
        {
          "output_type": "execute_result",
          "data": {
            "text/plain": [
              "'wo'"
            ],
            "application/vnd.google.colaboratory.intrinsic+json": {
              "type": "string"
            }
          },
          "metadata": {},
          "execution_count": 9
        }
      ]
    },
    {
      "cell_type": "code",
      "source": [
        "backoff.transliterate('窝')"
      ],
      "metadata": {
        "colab": {
          "base_uri": "https://localhost:8080/",
          "height": 36
        },
        "id": "IkfZvQnubuam",
        "outputId": "710580e3-77f9-4005-9077-94f0d610d8ba"
      },
      "execution_count": null,
      "outputs": [
        {
          "output_type": "execute_result",
          "data": {
            "text/plain": [
              "'wo'"
            ],
            "application/vnd.google.colaboratory.intrinsic+json": {
              "type": "string"
            }
          },
          "metadata": {},
          "execution_count": 8
        }
      ]
    },
    {
      "cell_type": "code",
      "source": [
        "backoff.transliterate('我们都有一个家名字叫中国')"
      ],
      "metadata": {
        "colab": {
          "base_uri": "https://localhost:8080/",
          "height": 36
        },
        "id": "A7F1dFv1fyQq",
        "outputId": "e46b9c39-131b-4a40-bf25-38c19657f1cc"
      },
      "execution_count": 10,
      "outputs": [
        {
          "output_type": "execute_result",
          "data": {
            "text/plain": [
              "'womentujouiket͡ɕiamiŋt͡sit͡ɕiaoʈ͡ʂoŋkuo'"
            ],
            "application/vnd.google.colaboratory.intrinsic+json": {
              "type": "string"
            }
          },
          "metadata": {},
          "execution_count": 10
        }
      ]
    },
    {
      "cell_type": "code",
      "source": [
        "from allosaurus.app import read_recognizer\n",
        "from epitran.backoff import Backoff\n",
        "from Levenshtein import distance\n",
        "\n",
        "\n",
        "epitran.download.cedict()\n",
        "\n",
        "backoff = Backoff(['cmn-Hans'])\n",
        "\n",
        "# load your model by the <model name>, will use 'latest' if left empty\n",
        "model = read_recognizer()\n",
        "\n",
        "def comparePhoneticDistances(sound_file, target_word_seq, lang):\n",
        "  model_recognized_phonemes = model.recognize(sound_file, 'cmn') # cmn is chinese\n",
        "  target_phonemes = backoff.transliterate(target_word_seq)\n",
        "  phonetic_edit_distance = distance(model_recognized_phonemes, target_phonemes)\n",
        "  return phonetic_edit_distance\n"
      ],
      "metadata": {
        "colab": {
          "base_uri": "https://localhost:8080/"
        },
        "id": "ntcXiXpbe5I-",
        "outputId": "051c7ed0-990b-41d5-e443-a8104eedf613"
      },
      "execution_count": 20,
      "outputs": [
        {
          "output_type": "stream",
          "name": "stdout",
          "text": [
            "downloading model  latest\n",
            "from:  https://github.com/xinjli/allosaurus/releases/download/v1.0/latest.tar.gz\n",
            "to:    /usr/local/lib/python3.10/dist-packages/allosaurus/pretrained\n",
            "please wait...\n"
          ]
        }
      ]
    },
    {
      "cell_type": "code",
      "source": [
        "from Levenshtein import distance\n",
        "\n",
        "phrase1 = backoff.transliterate('我们都有一个家名字叫中国')\n",
        "phrase2 = backoff.transliterate('我们都有一和家名字叫中国')\n",
        "\n",
        "print(phrase1)\n",
        "print(phrase2)\n",
        "print(distance(phrase1, phrase2))"
      ],
      "metadata": {
        "colab": {
          "base_uri": "https://localhost:8080/"
        },
        "id": "vD7IRfcqfWig",
        "outputId": "1eaa811e-ded2-4a3b-8ff0-d76f9d15ab4f"
      },
      "execution_count": 19,
      "outputs": [
        {
          "output_type": "stream",
          "name": "stdout",
          "text": [
            "womentujouiket͡ɕiamiŋt͡sit͡ɕiaoʈ͡ʂoŋkuo\n",
            "womentujouixet͡ɕiamiŋt͡sit͡ɕiaoʈ͡ʂoŋkuo\n",
            "1\n"
          ]
        }
      ]
    },
    {
      "cell_type": "code",
      "source": [],
      "metadata": {
        "id": "pUhS0_M4kqm_"
      },
      "execution_count": 15,
      "outputs": []
    }
  ]
}